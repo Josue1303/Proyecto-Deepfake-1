{
 "cells": [
  {
   "cell_type": "markdown",
   "id": "d0675f9d",
   "metadata": {},
   "source": [
    "# Prueba del modelo"
   ]
  },
  {
   "cell_type": "code",
   "execution_count": 1,
   "id": "b333cab6",
   "metadata": {},
   "outputs": [],
   "source": [
    "from torchvision.models import efficientnet_b0\n",
    "import torch.nn as nn\n",
    "\n",
    "class FramewiseEfficientNet(nn.Module):\n",
    "    def __init__(self, sequence_length=16, dropout=0.4):\n",
    "        super(FramewiseEfficientNet, self).__init__()\n",
    "        self.backbone = efficientnet_b0(weights='IMAGENET1K_V1')\n",
    "        self.backbone.classifier = nn.Identity()\n",
    "        self.classifier = nn.Sequential(\n",
    "            nn.Linear(1280, 512),\n",
    "            nn.ReLU(),\n",
    "            nn.Dropout(dropout),\n",
    "            nn.Linear(512, 1)\n",
    "        )\n",
    "\n",
    "    def forward(self, x):  # x: [B, T, C, H, W]\n",
    "        B, T, C, H, W = x.shape\n",
    "        x = x.view(B * T, C, H, W)\n",
    "        feats = self.backbone(x)\n",
    "        feats = feats.view(B, T, -1).mean(1)\n",
    "        return self.classifier(feats).view(-1)\n"
   ]
  },
  {
   "cell_type": "code",
   "execution_count": 37,
   "id": "2e953062",
   "metadata": {},
   "outputs": [
    {
     "name": "stdout",
     "output_type": "stream",
     "text": [
      "📹 Resultado para video: 0.9211 (Fake)\n"
     ]
    }
   ],
   "source": [
    "from torchvision import transforms\n",
    "import face_recognition\n",
    "import cv2\n",
    "import numpy as np\n",
    "import torch\n",
    "\n",
    "# Configurar device\n",
    "device = 'cuda' if torch.cuda.is_available() else 'cpu'\n",
    "\n",
    "# Cargar modelo\n",
    "model = FramewiseEfficientNet()\n",
    "model.load_state_dict(torch.load(\"modelo_finetuneado3.pt\"))\n",
    "model.to(device)\n",
    "model.eval()\n",
    "\n",
    "# Configuración de transform\n",
    "transform = transforms.Compose([\n",
    "    transforms.ToPILImage(),\n",
    "    transforms.ToTensor(),\n",
    "    transforms.Resize((224, 224)),\n",
    "    transforms.Normalize([0.485, 0.456, 0.406],\n",
    "                         [0.229, 0.224, 0.225]),\n",
    "])\n",
    "\n",
    "def preprocess_video_for_inference(video_path, num_frames=16):\n",
    "    cap = cv2.VideoCapture(video_path)\n",
    "    total_frames = int(cap.get(cv2.CAP_PROP_FRAME_COUNT))\n",
    "\n",
    "    # Índices espaciados\n",
    "    indices = np.linspace(0, total_frames - 1, num_frames, dtype=int)\n",
    "    frames = []\n",
    "\n",
    "    for i in range(total_frames):\n",
    "        ret, frame = cap.read()\n",
    "        if not ret:\n",
    "            break\n",
    "        if i in indices:\n",
    "            rgb = cv2.cvtColor(frame, cv2.COLOR_BGR2RGB)\n",
    "            faces = face_recognition.face_locations(rgb)\n",
    "            if faces:\n",
    "                top, right, bottom, left = faces[0]\n",
    "                face = rgb[top:bottom, left:right]\n",
    "                face = cv2.resize(face, (224, 224))\n",
    "                tensor = transform(face)\n",
    "                frames.append(tensor)\n",
    "\n",
    "    cap.release()\n",
    "\n",
    "    if len(frames) < num_frames:\n",
    "        print(f\"⚠️ Solo se detectaron {len(frames)} rostros. Rellenando...\")\n",
    "        while len(frames) < num_frames:\n",
    "            frames.append(frames[-1].clone())\n",
    "\n",
    "    video_tensor = torch.stack(frames).unsqueeze(0)  # [1, T, C, H, W]\n",
    "    return video_tensor\n",
    "\n",
    "# Evaluar un video\n",
    "video_path = \"C:/Users/Hermanos/Desktop/Proyecto Deepfake/prueba28.mp4\"\n",
    "video_tensor = preprocess_video_for_inference(video_path).to(device)\n",
    "\n",
    "with torch.no_grad():\n",
    "    output = model(video_tensor)\n",
    "    prob = torch.sigmoid(output).item()\n",
    "    print(f\"📹 Resultado para video: {prob:.4f} ({'Fake' if prob > 0.5 else 'Real'})\")\n"
   ]
  },
  {
   "cell_type": "code",
   "execution_count": null,
   "id": "96213923",
   "metadata": {},
   "outputs": [
    {
     "name": "stdout",
     "output_type": "stream",
     "text": [
      "🔍 Resultado para .pt: 1.0000 (Fake)\n"
     ]
    }
   ],
   "source": [
    "import torch\n",
    "\n",
    "# Configurar device\n",
    "device = 'cuda' if torch.cuda.is_available() else 'cpu'\n",
    "\n",
    "# Cargar modelo\n",
    "model = FramewiseEfficientNet()\n",
    "model.load_state_dict(torch.load(\"modelo_finetuneado3.pt\"))\n",
    "model.to(device)\n",
    "model.eval()\n",
    "\n",
    "# Ruta a un tensor del test set\n",
    "pt_path = \"C:/Users/Hermanos/Desktop/Proyecto Deepfake/preprocesados/Face2Face_029_048.pt\"\n",
    "tensor = torch.load(pt_path).unsqueeze(0).to(device)  # [1, T, C, H, W]\n",
    "\n",
    "# Evaluación\n",
    "with torch.no_grad():\n",
    "    output = model(tensor)\n",
    "    prob = torch.sigmoid(output).item()\n",
    "    print(f\"🔍 Resultado para .pt: {prob:.4f} ({'Fake' if prob > 0.5 else 'Real'})\")\n"
   ]
  }
 ],
 "metadata": {
  "kernelspec": {
   "display_name": ".venv",
   "language": "python",
   "name": "python3"
  },
  "language_info": {
   "codemirror_mode": {
    "name": "ipython",
    "version": 3
   },
   "file_extension": ".py",
   "mimetype": "text/x-python",
   "name": "python",
   "nbconvert_exporter": "python",
   "pygments_lexer": "ipython3",
   "version": "3.13.3"
  }
 },
 "nbformat": 4,
 "nbformat_minor": 5
}
